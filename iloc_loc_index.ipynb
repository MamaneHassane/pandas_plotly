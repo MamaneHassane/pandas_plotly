{
 "cells": [
  {
   "cell_type": "code",
   "id": "initial_id",
   "metadata": {
    "collapsed": true,
    "ExecuteTime": {
     "end_time": "2024-10-26T10:04:01.872792Z",
     "start_time": "2024-10-26T10:04:01.859964Z"
    }
   },
   "source": "import pandas as pd",
   "outputs": [],
   "execution_count": 57
  },
  {
   "metadata": {},
   "cell_type": "markdown",
   "source": "Créer un dataframe à partir d'un dictionnaire",
   "id": "17725573fd58bbac"
  },
  {
   "metadata": {
    "ExecuteTime": {
     "end_time": "2024-10-26T10:04:01.919184Z",
     "start_time": "2024-10-26T10:04:01.894363Z"
    }
   },
   "cell_type": "code",
   "source": [
    "data_dict = {\n",
    "    'first_name' : ['hassane','sara','francis','laura'],\n",
    "    'last_name' : ['mamane','tamami','eustler','chavez'],\n",
    "    'email' : ['hassanemmn@gmail.com','sara@gmail.com','francisestl@gmail.com','laura@gmail.com'],\n",
    "    'date_of_birth':['16/02/2001','21/03/2001','30/07/2002','14/10/2003'],\n",
    "    'salary': [12000,9700,9500,11000],\n",
    "    'field': ['Data & IA', 'Software engineering', 'Litterature', 'Art'],\n",
    "    'sex': ['M','F','M','F'],\n",
    "    'answer' : [True,False,False,True],\n",
    "}\n",
    "df = pd.DataFrame(data_dict)\n",
    "df\n",
    "    \n"
   ],
   "id": "4e2f0dbc00957df2",
   "outputs": [
    {
     "data": {
      "text/plain": [
       "  first_name last_name                  email date_of_birth  salary  answer\n",
       "0    hassane    mamane   hassanemmn@gmail.com    16/02/2001   12000    True\n",
       "1       sara    tamami         sara@gmail.com    21/03/2001    9700   False\n",
       "2    francis   eustler  francisestl@gmail.com    30/07/2002    9500   False\n",
       "3      laura    chavez        laura@gmail.com    14/10/2003   11000    True"
      ],
      "text/html": [
       "<div>\n",
       "<style scoped>\n",
       "    .dataframe tbody tr th:only-of-type {\n",
       "        vertical-align: middle;\n",
       "    }\n",
       "\n",
       "    .dataframe tbody tr th {\n",
       "        vertical-align: top;\n",
       "    }\n",
       "\n",
       "    .dataframe thead th {\n",
       "        text-align: right;\n",
       "    }\n",
       "</style>\n",
       "<table border=\"1\" class=\"dataframe\">\n",
       "  <thead>\n",
       "    <tr style=\"text-align: right;\">\n",
       "      <th></th>\n",
       "      <th>first_name</th>\n",
       "      <th>last_name</th>\n",
       "      <th>email</th>\n",
       "      <th>date_of_birth</th>\n",
       "      <th>salary</th>\n",
       "      <th>answer</th>\n",
       "    </tr>\n",
       "  </thead>\n",
       "  <tbody>\n",
       "    <tr>\n",
       "      <th>0</th>\n",
       "      <td>hassane</td>\n",
       "      <td>mamane</td>\n",
       "      <td>hassanemmn@gmail.com</td>\n",
       "      <td>16/02/2001</td>\n",
       "      <td>12000</td>\n",
       "      <td>True</td>\n",
       "    </tr>\n",
       "    <tr>\n",
       "      <th>1</th>\n",
       "      <td>sara</td>\n",
       "      <td>tamami</td>\n",
       "      <td>sara@gmail.com</td>\n",
       "      <td>21/03/2001</td>\n",
       "      <td>9700</td>\n",
       "      <td>False</td>\n",
       "    </tr>\n",
       "    <tr>\n",
       "      <th>2</th>\n",
       "      <td>francis</td>\n",
       "      <td>eustler</td>\n",
       "      <td>francisestl@gmail.com</td>\n",
       "      <td>30/07/2002</td>\n",
       "      <td>9500</td>\n",
       "      <td>False</td>\n",
       "    </tr>\n",
       "    <tr>\n",
       "      <th>3</th>\n",
       "      <td>laura</td>\n",
       "      <td>chavez</td>\n",
       "      <td>laura@gmail.com</td>\n",
       "      <td>14/10/2003</td>\n",
       "      <td>11000</td>\n",
       "      <td>True</td>\n",
       "    </tr>\n",
       "  </tbody>\n",
       "</table>\n",
       "</div>"
      ]
     },
     "execution_count": 58,
     "metadata": {},
     "output_type": "execute_result"
    }
   ],
   "execution_count": 58
  },
  {
   "metadata": {},
   "cell_type": "markdown",
   "source": "Lire une colonne",
   "id": "3a86dfeb4345ccd5"
  },
  {
   "metadata": {
    "ExecuteTime": {
     "end_time": "2024-10-26T10:04:01.997224Z",
     "start_time": "2024-10-26T10:04:01.983736Z"
    }
   },
   "cell_type": "code",
   "source": "df['date_of_birth']",
   "id": "74baa584fab4fb7c",
   "outputs": [
    {
     "data": {
      "text/plain": [
       "0    16/02/2001\n",
       "1    21/03/2001\n",
       "2    30/07/2002\n",
       "3    14/10/2003\n",
       "Name: date_of_birth, dtype: object"
      ]
     },
     "execution_count": 59,
     "metadata": {},
     "output_type": "execute_result"
    }
   ],
   "execution_count": 59
  },
  {
   "metadata": {},
   "cell_type": "markdown",
   "source": "Lire plusieurs colonnes",
   "id": "5d9d6174f6f58ed3"
  },
  {
   "metadata": {
    "ExecuteTime": {
     "end_time": "2024-10-26T10:04:02.124740Z",
     "start_time": "2024-10-26T10:04:02.110358Z"
    }
   },
   "cell_type": "code",
   "source": "df[['first_name','answer']]",
   "id": "13d5f6fcfd499c5d",
   "outputs": [
    {
     "data": {
      "text/plain": [
       "  first_name  answer\n",
       "0    hassane    True\n",
       "1       sara   False\n",
       "2    francis   False\n",
       "3      laura    True"
      ],
      "text/html": [
       "<div>\n",
       "<style scoped>\n",
       "    .dataframe tbody tr th:only-of-type {\n",
       "        vertical-align: middle;\n",
       "    }\n",
       "\n",
       "    .dataframe tbody tr th {\n",
       "        vertical-align: top;\n",
       "    }\n",
       "\n",
       "    .dataframe thead th {\n",
       "        text-align: right;\n",
       "    }\n",
       "</style>\n",
       "<table border=\"1\" class=\"dataframe\">\n",
       "  <thead>\n",
       "    <tr style=\"text-align: right;\">\n",
       "      <th></th>\n",
       "      <th>first_name</th>\n",
       "      <th>answer</th>\n",
       "    </tr>\n",
       "  </thead>\n",
       "  <tbody>\n",
       "    <tr>\n",
       "      <th>0</th>\n",
       "      <td>hassane</td>\n",
       "      <td>True</td>\n",
       "    </tr>\n",
       "    <tr>\n",
       "      <th>1</th>\n",
       "      <td>sara</td>\n",
       "      <td>False</td>\n",
       "    </tr>\n",
       "    <tr>\n",
       "      <th>2</th>\n",
       "      <td>francis</td>\n",
       "      <td>False</td>\n",
       "    </tr>\n",
       "    <tr>\n",
       "      <th>3</th>\n",
       "      <td>laura</td>\n",
       "      <td>True</td>\n",
       "    </tr>\n",
       "  </tbody>\n",
       "</table>\n",
       "</div>"
      ]
     },
     "execution_count": 60,
     "metadata": {},
     "output_type": "execute_result"
    }
   ],
   "execution_count": 60
  },
  {
   "metadata": {},
   "cell_type": "markdown",
   "source": "Voir les colonnes",
   "id": "926f8a5b52475a83"
  },
  {
   "metadata": {
    "ExecuteTime": {
     "end_time": "2024-10-26T10:04:02.358103Z",
     "start_time": "2024-10-26T10:04:02.344835Z"
    }
   },
   "cell_type": "code",
   "source": "df.columns",
   "id": "3688dcd5a80671c2",
   "outputs": [
    {
     "data": {
      "text/plain": [
       "Index(['first_name', 'last_name', 'email', 'date_of_birth', 'salary',\n",
       "       'answer'],\n",
       "      dtype='object')"
      ]
     },
     "execution_count": 61,
     "metadata": {},
     "output_type": "execute_result"
    }
   ],
   "execution_count": 61
  },
  {
   "metadata": {},
   "cell_type": "markdown",
   "source": "Voir une ligne",
   "id": "22a854964849b6ba"
  },
  {
   "metadata": {
    "ExecuteTime": {
     "end_time": "2024-10-26T10:04:02.514859Z",
     "start_time": "2024-10-26T10:04:02.500465Z"
    }
   },
   "cell_type": "code",
   "source": "df.iloc[1]",
   "id": "4e0de1163a579360",
   "outputs": [
    {
     "data": {
      "text/plain": [
       "first_name                 sara\n",
       "last_name                tamami\n",
       "email            sara@gmail.com\n",
       "date_of_birth        21/03/2001\n",
       "salary                     9700\n",
       "answer                    False\n",
       "Name: 1, dtype: object"
      ]
     },
     "execution_count": 62,
     "metadata": {},
     "output_type": "execute_result"
    }
   ],
   "execution_count": 62
  },
  {
   "metadata": {},
   "cell_type": "markdown",
   "source": "Voir plusieurs listes",
   "id": "a88cf2039af8e9e7"
  },
  {
   "metadata": {
    "ExecuteTime": {
     "end_time": "2024-10-26T10:04:02.623106Z",
     "start_time": "2024-10-26T10:04:02.611062Z"
    }
   },
   "cell_type": "code",
   "source": "df.iloc[[1,3]]",
   "id": "289654ae8d547e70",
   "outputs": [
    {
     "data": {
      "text/plain": [
       "  first_name last_name            email date_of_birth  salary  answer\n",
       "1       sara    tamami   sara@gmail.com    21/03/2001    9700   False\n",
       "3      laura    chavez  laura@gmail.com    14/10/2003   11000    True"
      ],
      "text/html": [
       "<div>\n",
       "<style scoped>\n",
       "    .dataframe tbody tr th:only-of-type {\n",
       "        vertical-align: middle;\n",
       "    }\n",
       "\n",
       "    .dataframe tbody tr th {\n",
       "        vertical-align: top;\n",
       "    }\n",
       "\n",
       "    .dataframe thead th {\n",
       "        text-align: right;\n",
       "    }\n",
       "</style>\n",
       "<table border=\"1\" class=\"dataframe\">\n",
       "  <thead>\n",
       "    <tr style=\"text-align: right;\">\n",
       "      <th></th>\n",
       "      <th>first_name</th>\n",
       "      <th>last_name</th>\n",
       "      <th>email</th>\n",
       "      <th>date_of_birth</th>\n",
       "      <th>salary</th>\n",
       "      <th>answer</th>\n",
       "    </tr>\n",
       "  </thead>\n",
       "  <tbody>\n",
       "    <tr>\n",
       "      <th>1</th>\n",
       "      <td>sara</td>\n",
       "      <td>tamami</td>\n",
       "      <td>sara@gmail.com</td>\n",
       "      <td>21/03/2001</td>\n",
       "      <td>9700</td>\n",
       "      <td>False</td>\n",
       "    </tr>\n",
       "    <tr>\n",
       "      <th>3</th>\n",
       "      <td>laura</td>\n",
       "      <td>chavez</td>\n",
       "      <td>laura@gmail.com</td>\n",
       "      <td>14/10/2003</td>\n",
       "      <td>11000</td>\n",
       "      <td>True</td>\n",
       "    </tr>\n",
       "  </tbody>\n",
       "</table>\n",
       "</div>"
      ]
     },
     "execution_count": 63,
     "metadata": {},
     "output_type": "execute_result"
    }
   ],
   "execution_count": 63
  },
  {
   "metadata": {},
   "cell_type": "markdown",
   "source": "Voir des lignes et des colonnes",
   "id": "8c51d7a41989c315"
  },
  {
   "metadata": {
    "ExecuteTime": {
     "end_time": "2024-10-26T10:04:02.746584Z",
     "start_time": "2024-10-26T10:04:02.732384Z"
    }
   },
   "cell_type": "code",
   "source": "df.iloc[[1,3],[0,2]]",
   "id": "c6621d17555a075a",
   "outputs": [
    {
     "data": {
      "text/plain": [
       "  first_name            email\n",
       "1       sara   sara@gmail.com\n",
       "3      laura  laura@gmail.com"
      ],
      "text/html": [
       "<div>\n",
       "<style scoped>\n",
       "    .dataframe tbody tr th:only-of-type {\n",
       "        vertical-align: middle;\n",
       "    }\n",
       "\n",
       "    .dataframe tbody tr th {\n",
       "        vertical-align: top;\n",
       "    }\n",
       "\n",
       "    .dataframe thead th {\n",
       "        text-align: right;\n",
       "    }\n",
       "</style>\n",
       "<table border=\"1\" class=\"dataframe\">\n",
       "  <thead>\n",
       "    <tr style=\"text-align: right;\">\n",
       "      <th></th>\n",
       "      <th>first_name</th>\n",
       "      <th>email</th>\n",
       "    </tr>\n",
       "  </thead>\n",
       "  <tbody>\n",
       "    <tr>\n",
       "      <th>1</th>\n",
       "      <td>sara</td>\n",
       "      <td>sara@gmail.com</td>\n",
       "    </tr>\n",
       "    <tr>\n",
       "      <th>3</th>\n",
       "      <td>laura</td>\n",
       "      <td>laura@gmail.com</td>\n",
       "    </tr>\n",
       "  </tbody>\n",
       "</table>\n",
       "</div>"
      ]
     },
     "execution_count": 64,
     "metadata": {},
     "output_type": "execute_result"
    }
   ],
   "execution_count": 64
  },
  {
   "metadata": {},
   "cell_type": "markdown",
   "source": "Avec loc, on peut utiliser les labels",
   "id": "c88ac91668b04e40"
  },
  {
   "metadata": {
    "ExecuteTime": {
     "end_time": "2024-10-26T10:04:02.934067Z",
     "start_time": "2024-10-26T10:04:02.905116Z"
    }
   },
   "cell_type": "code",
   "source": "df.loc[[1,3],['first_name', 'last_name', 'email']]",
   "id": "4fe695051970a025",
   "outputs": [
    {
     "data": {
      "text/plain": [
       "  first_name last_name            email\n",
       "1       sara    tamami   sara@gmail.com\n",
       "3      laura    chavez  laura@gmail.com"
      ],
      "text/html": [
       "<div>\n",
       "<style scoped>\n",
       "    .dataframe tbody tr th:only-of-type {\n",
       "        vertical-align: middle;\n",
       "    }\n",
       "\n",
       "    .dataframe tbody tr th {\n",
       "        vertical-align: top;\n",
       "    }\n",
       "\n",
       "    .dataframe thead th {\n",
       "        text-align: right;\n",
       "    }\n",
       "</style>\n",
       "<table border=\"1\" class=\"dataframe\">\n",
       "  <thead>\n",
       "    <tr style=\"text-align: right;\">\n",
       "      <th></th>\n",
       "      <th>first_name</th>\n",
       "      <th>last_name</th>\n",
       "      <th>email</th>\n",
       "    </tr>\n",
       "  </thead>\n",
       "  <tbody>\n",
       "    <tr>\n",
       "      <th>1</th>\n",
       "      <td>sara</td>\n",
       "      <td>tamami</td>\n",
       "      <td>sara@gmail.com</td>\n",
       "    </tr>\n",
       "    <tr>\n",
       "      <th>3</th>\n",
       "      <td>laura</td>\n",
       "      <td>chavez</td>\n",
       "      <td>laura@gmail.com</td>\n",
       "    </tr>\n",
       "  </tbody>\n",
       "</table>\n",
       "</div>"
      ]
     },
     "execution_count": 65,
     "metadata": {},
     "output_type": "execute_result"
    }
   ],
   "execution_count": 65
  },
  {
   "metadata": {},
   "cell_type": "markdown",
   "source": "Compter les valeurs d'une colonne",
   "id": "b18a4b866baed418"
  },
  {
   "metadata": {
    "ExecuteTime": {
     "end_time": "2024-10-26T10:04:03.310910Z",
     "start_time": "2024-10-26T10:04:03.297104Z"
    }
   },
   "cell_type": "code",
   "source": "df['answer'].value_counts()",
   "id": "519165c0009b7191",
   "outputs": [
    {
     "data": {
      "text/plain": [
       "answer\n",
       "True     2\n",
       "False    2\n",
       "Name: count, dtype: int64"
      ]
     },
     "execution_count": 66,
     "metadata": {},
     "output_type": "execute_result"
    }
   ],
   "execution_count": 66
  },
  {
   "metadata": {
    "ExecuteTime": {
     "end_time": "2024-10-26T10:04:03.481696Z",
     "start_time": "2024-10-26T10:04:03.453751Z"
    }
   },
   "cell_type": "code",
   "source": "df.loc[:2,'last_name':'answer']",
   "id": "9fe11d3344b76fba",
   "outputs": [
    {
     "data": {
      "text/plain": [
       "  last_name                  email date_of_birth  salary  answer\n",
       "0    mamane   hassanemmn@gmail.com    16/02/2001   12000    True\n",
       "1    tamami         sara@gmail.com    21/03/2001    9700   False\n",
       "2   eustler  francisestl@gmail.com    30/07/2002    9500   False"
      ],
      "text/html": [
       "<div>\n",
       "<style scoped>\n",
       "    .dataframe tbody tr th:only-of-type {\n",
       "        vertical-align: middle;\n",
       "    }\n",
       "\n",
       "    .dataframe tbody tr th {\n",
       "        vertical-align: top;\n",
       "    }\n",
       "\n",
       "    .dataframe thead th {\n",
       "        text-align: right;\n",
       "    }\n",
       "</style>\n",
       "<table border=\"1\" class=\"dataframe\">\n",
       "  <thead>\n",
       "    <tr style=\"text-align: right;\">\n",
       "      <th></th>\n",
       "      <th>last_name</th>\n",
       "      <th>email</th>\n",
       "      <th>date_of_birth</th>\n",
       "      <th>salary</th>\n",
       "      <th>answer</th>\n",
       "    </tr>\n",
       "  </thead>\n",
       "  <tbody>\n",
       "    <tr>\n",
       "      <th>0</th>\n",
       "      <td>mamane</td>\n",
       "      <td>hassanemmn@gmail.com</td>\n",
       "      <td>16/02/2001</td>\n",
       "      <td>12000</td>\n",
       "      <td>True</td>\n",
       "    </tr>\n",
       "    <tr>\n",
       "      <th>1</th>\n",
       "      <td>tamami</td>\n",
       "      <td>sara@gmail.com</td>\n",
       "      <td>21/03/2001</td>\n",
       "      <td>9700</td>\n",
       "      <td>False</td>\n",
       "    </tr>\n",
       "    <tr>\n",
       "      <th>2</th>\n",
       "      <td>eustler</td>\n",
       "      <td>francisestl@gmail.com</td>\n",
       "      <td>30/07/2002</td>\n",
       "      <td>9500</td>\n",
       "      <td>False</td>\n",
       "    </tr>\n",
       "  </tbody>\n",
       "</table>\n",
       "</div>"
      ]
     },
     "execution_count": 67,
     "metadata": {},
     "output_type": "execute_result"
    }
   ],
   "execution_count": 67
  },
  {
   "metadata": {},
   "cell_type": "markdown",
   "source": "Mettre une colonne en index",
   "id": "190568f73d155f01"
  },
  {
   "metadata": {
    "ExecuteTime": {
     "end_time": "2024-10-26T10:04:03.651908Z",
     "start_time": "2024-10-26T10:04:03.625792Z"
    }
   },
   "cell_type": "code",
   "source": "df.set_index('email')",
   "id": "5e326a5464590429",
   "outputs": [
    {
     "data": {
      "text/plain": [
       "                      first_name last_name date_of_birth  salary  answer\n",
       "email                                                                   \n",
       "hassanemmn@gmail.com     hassane    mamane    16/02/2001   12000    True\n",
       "sara@gmail.com              sara    tamami    21/03/2001    9700   False\n",
       "francisestl@gmail.com    francis   eustler    30/07/2002    9500   False\n",
       "laura@gmail.com            laura    chavez    14/10/2003   11000    True"
      ],
      "text/html": [
       "<div>\n",
       "<style scoped>\n",
       "    .dataframe tbody tr th:only-of-type {\n",
       "        vertical-align: middle;\n",
       "    }\n",
       "\n",
       "    .dataframe tbody tr th {\n",
       "        vertical-align: top;\n",
       "    }\n",
       "\n",
       "    .dataframe thead th {\n",
       "        text-align: right;\n",
       "    }\n",
       "</style>\n",
       "<table border=\"1\" class=\"dataframe\">\n",
       "  <thead>\n",
       "    <tr style=\"text-align: right;\">\n",
       "      <th></th>\n",
       "      <th>first_name</th>\n",
       "      <th>last_name</th>\n",
       "      <th>date_of_birth</th>\n",
       "      <th>salary</th>\n",
       "      <th>answer</th>\n",
       "    </tr>\n",
       "    <tr>\n",
       "      <th>email</th>\n",
       "      <th></th>\n",
       "      <th></th>\n",
       "      <th></th>\n",
       "      <th></th>\n",
       "      <th></th>\n",
       "    </tr>\n",
       "  </thead>\n",
       "  <tbody>\n",
       "    <tr>\n",
       "      <th>hassanemmn@gmail.com</th>\n",
       "      <td>hassane</td>\n",
       "      <td>mamane</td>\n",
       "      <td>16/02/2001</td>\n",
       "      <td>12000</td>\n",
       "      <td>True</td>\n",
       "    </tr>\n",
       "    <tr>\n",
       "      <th>sara@gmail.com</th>\n",
       "      <td>sara</td>\n",
       "      <td>tamami</td>\n",
       "      <td>21/03/2001</td>\n",
       "      <td>9700</td>\n",
       "      <td>False</td>\n",
       "    </tr>\n",
       "    <tr>\n",
       "      <th>francisestl@gmail.com</th>\n",
       "      <td>francis</td>\n",
       "      <td>eustler</td>\n",
       "      <td>30/07/2002</td>\n",
       "      <td>9500</td>\n",
       "      <td>False</td>\n",
       "    </tr>\n",
       "    <tr>\n",
       "      <th>laura@gmail.com</th>\n",
       "      <td>laura</td>\n",
       "      <td>chavez</td>\n",
       "      <td>14/10/2003</td>\n",
       "      <td>11000</td>\n",
       "      <td>True</td>\n",
       "    </tr>\n",
       "  </tbody>\n",
       "</table>\n",
       "</div>"
      ]
     },
     "execution_count": 68,
     "metadata": {},
     "output_type": "execute_result"
    }
   ],
   "execution_count": 68
  },
  {
   "metadata": {
    "ExecuteTime": {
     "end_time": "2024-10-26T10:04:03.836920Z",
     "start_time": "2024-10-26T10:04:03.808364Z"
    }
   },
   "cell_type": "code",
   "source": "df # il n'a pas vraiment changé",
   "id": "c9ebd3ff76cedf72",
   "outputs": [
    {
     "data": {
      "text/plain": [
       "  first_name last_name                  email date_of_birth  salary  answer\n",
       "0    hassane    mamane   hassanemmn@gmail.com    16/02/2001   12000    True\n",
       "1       sara    tamami         sara@gmail.com    21/03/2001    9700   False\n",
       "2    francis   eustler  francisestl@gmail.com    30/07/2002    9500   False\n",
       "3      laura    chavez        laura@gmail.com    14/10/2003   11000    True"
      ],
      "text/html": [
       "<div>\n",
       "<style scoped>\n",
       "    .dataframe tbody tr th:only-of-type {\n",
       "        vertical-align: middle;\n",
       "    }\n",
       "\n",
       "    .dataframe tbody tr th {\n",
       "        vertical-align: top;\n",
       "    }\n",
       "\n",
       "    .dataframe thead th {\n",
       "        text-align: right;\n",
       "    }\n",
       "</style>\n",
       "<table border=\"1\" class=\"dataframe\">\n",
       "  <thead>\n",
       "    <tr style=\"text-align: right;\">\n",
       "      <th></th>\n",
       "      <th>first_name</th>\n",
       "      <th>last_name</th>\n",
       "      <th>email</th>\n",
       "      <th>date_of_birth</th>\n",
       "      <th>salary</th>\n",
       "      <th>answer</th>\n",
       "    </tr>\n",
       "  </thead>\n",
       "  <tbody>\n",
       "    <tr>\n",
       "      <th>0</th>\n",
       "      <td>hassane</td>\n",
       "      <td>mamane</td>\n",
       "      <td>hassanemmn@gmail.com</td>\n",
       "      <td>16/02/2001</td>\n",
       "      <td>12000</td>\n",
       "      <td>True</td>\n",
       "    </tr>\n",
       "    <tr>\n",
       "      <th>1</th>\n",
       "      <td>sara</td>\n",
       "      <td>tamami</td>\n",
       "      <td>sara@gmail.com</td>\n",
       "      <td>21/03/2001</td>\n",
       "      <td>9700</td>\n",
       "      <td>False</td>\n",
       "    </tr>\n",
       "    <tr>\n",
       "      <th>2</th>\n",
       "      <td>francis</td>\n",
       "      <td>eustler</td>\n",
       "      <td>francisestl@gmail.com</td>\n",
       "      <td>30/07/2002</td>\n",
       "      <td>9500</td>\n",
       "      <td>False</td>\n",
       "    </tr>\n",
       "    <tr>\n",
       "      <th>3</th>\n",
       "      <td>laura</td>\n",
       "      <td>chavez</td>\n",
       "      <td>laura@gmail.com</td>\n",
       "      <td>14/10/2003</td>\n",
       "      <td>11000</td>\n",
       "      <td>True</td>\n",
       "    </tr>\n",
       "  </tbody>\n",
       "</table>\n",
       "</div>"
      ]
     },
     "execution_count": 69,
     "metadata": {},
     "output_type": "execute_result"
    }
   ],
   "execution_count": 69
  },
  {
   "metadata": {},
   "cell_type": "markdown",
   "source": "On peut le changer",
   "id": "d175e55374570f63"
  },
  {
   "metadata": {
    "ExecuteTime": {
     "end_time": "2024-10-26T10:04:03.980136Z",
     "start_time": "2024-10-26T10:04:03.966801Z"
    }
   },
   "cell_type": "code",
   "source": "df.set_index('email', inplace=True)",
   "id": "14ce5997e4768c52",
   "outputs": [],
   "execution_count": 70
  },
  {
   "metadata": {
    "ExecuteTime": {
     "end_time": "2024-10-26T10:04:04.073177Z",
     "start_time": "2024-10-26T10:04:04.060344Z"
    }
   },
   "cell_type": "code",
   "source": "df",
   "id": "14ea216d2d6f59a8",
   "outputs": [
    {
     "data": {
      "text/plain": [
       "                      first_name last_name date_of_birth  salary  answer\n",
       "email                                                                   \n",
       "hassanemmn@gmail.com     hassane    mamane    16/02/2001   12000    True\n",
       "sara@gmail.com              sara    tamami    21/03/2001    9700   False\n",
       "francisestl@gmail.com    francis   eustler    30/07/2002    9500   False\n",
       "laura@gmail.com            laura    chavez    14/10/2003   11000    True"
      ],
      "text/html": [
       "<div>\n",
       "<style scoped>\n",
       "    .dataframe tbody tr th:only-of-type {\n",
       "        vertical-align: middle;\n",
       "    }\n",
       "\n",
       "    .dataframe tbody tr th {\n",
       "        vertical-align: top;\n",
       "    }\n",
       "\n",
       "    .dataframe thead th {\n",
       "        text-align: right;\n",
       "    }\n",
       "</style>\n",
       "<table border=\"1\" class=\"dataframe\">\n",
       "  <thead>\n",
       "    <tr style=\"text-align: right;\">\n",
       "      <th></th>\n",
       "      <th>first_name</th>\n",
       "      <th>last_name</th>\n",
       "      <th>date_of_birth</th>\n",
       "      <th>salary</th>\n",
       "      <th>answer</th>\n",
       "    </tr>\n",
       "    <tr>\n",
       "      <th>email</th>\n",
       "      <th></th>\n",
       "      <th></th>\n",
       "      <th></th>\n",
       "      <th></th>\n",
       "      <th></th>\n",
       "    </tr>\n",
       "  </thead>\n",
       "  <tbody>\n",
       "    <tr>\n",
       "      <th>hassanemmn@gmail.com</th>\n",
       "      <td>hassane</td>\n",
       "      <td>mamane</td>\n",
       "      <td>16/02/2001</td>\n",
       "      <td>12000</td>\n",
       "      <td>True</td>\n",
       "    </tr>\n",
       "    <tr>\n",
       "      <th>sara@gmail.com</th>\n",
       "      <td>sara</td>\n",
       "      <td>tamami</td>\n",
       "      <td>21/03/2001</td>\n",
       "      <td>9700</td>\n",
       "      <td>False</td>\n",
       "    </tr>\n",
       "    <tr>\n",
       "      <th>francisestl@gmail.com</th>\n",
       "      <td>francis</td>\n",
       "      <td>eustler</td>\n",
       "      <td>30/07/2002</td>\n",
       "      <td>9500</td>\n",
       "      <td>False</td>\n",
       "    </tr>\n",
       "    <tr>\n",
       "      <th>laura@gmail.com</th>\n",
       "      <td>laura</td>\n",
       "      <td>chavez</td>\n",
       "      <td>14/10/2003</td>\n",
       "      <td>11000</td>\n",
       "      <td>True</td>\n",
       "    </tr>\n",
       "  </tbody>\n",
       "</table>\n",
       "</div>"
      ]
     },
     "execution_count": 71,
     "metadata": {},
     "output_type": "execute_result"
    }
   ],
   "execution_count": 71
  },
  {
   "metadata": {
    "ExecuteTime": {
     "end_time": "2024-10-26T10:04:04.230246Z",
     "start_time": "2024-10-26T10:04:04.217389Z"
    }
   },
   "cell_type": "code",
   "source": "df.loc['hassanemmn@gmail.com','first_name':'date_of_birth']",
   "id": "b646247cdd009b2b",
   "outputs": [
    {
     "data": {
      "text/plain": [
       "first_name          hassane\n",
       "last_name            mamane\n",
       "date_of_birth    16/02/2001\n",
       "Name: hassanemmn@gmail.com, dtype: object"
      ]
     },
     "execution_count": 72,
     "metadata": {},
     "output_type": "execute_result"
    }
   ],
   "execution_count": 72
  },
  {
   "metadata": {},
   "cell_type": "markdown",
   "source": "On peut revenir à la normale",
   "id": "e21db303f147c25a"
  },
  {
   "metadata": {
    "ExecuteTime": {
     "end_time": "2024-10-26T10:04:04.433255Z",
     "start_time": "2024-10-26T10:04:04.419687Z"
    }
   },
   "cell_type": "code",
   "source": "df.reset_index(inplace=True)",
   "id": "285c1bdc00062381",
   "outputs": [],
   "execution_count": 73
  },
  {
   "metadata": {
    "ExecuteTime": {
     "end_time": "2024-10-26T10:04:04.510705Z",
     "start_time": "2024-10-26T10:04:04.497076Z"
    }
   },
   "cell_type": "code",
   "source": "df",
   "id": "20841b13f8473402",
   "outputs": [
    {
     "data": {
      "text/plain": [
       "                   email first_name last_name date_of_birth  salary  answer\n",
       "0   hassanemmn@gmail.com    hassane    mamane    16/02/2001   12000    True\n",
       "1         sara@gmail.com       sara    tamami    21/03/2001    9700   False\n",
       "2  francisestl@gmail.com    francis   eustler    30/07/2002    9500   False\n",
       "3        laura@gmail.com      laura    chavez    14/10/2003   11000    True"
      ],
      "text/html": [
       "<div>\n",
       "<style scoped>\n",
       "    .dataframe tbody tr th:only-of-type {\n",
       "        vertical-align: middle;\n",
       "    }\n",
       "\n",
       "    .dataframe tbody tr th {\n",
       "        vertical-align: top;\n",
       "    }\n",
       "\n",
       "    .dataframe thead th {\n",
       "        text-align: right;\n",
       "    }\n",
       "</style>\n",
       "<table border=\"1\" class=\"dataframe\">\n",
       "  <thead>\n",
       "    <tr style=\"text-align: right;\">\n",
       "      <th></th>\n",
       "      <th>email</th>\n",
       "      <th>first_name</th>\n",
       "      <th>last_name</th>\n",
       "      <th>date_of_birth</th>\n",
       "      <th>salary</th>\n",
       "      <th>answer</th>\n",
       "    </tr>\n",
       "  </thead>\n",
       "  <tbody>\n",
       "    <tr>\n",
       "      <th>0</th>\n",
       "      <td>hassanemmn@gmail.com</td>\n",
       "      <td>hassane</td>\n",
       "      <td>mamane</td>\n",
       "      <td>16/02/2001</td>\n",
       "      <td>12000</td>\n",
       "      <td>True</td>\n",
       "    </tr>\n",
       "    <tr>\n",
       "      <th>1</th>\n",
       "      <td>sara@gmail.com</td>\n",
       "      <td>sara</td>\n",
       "      <td>tamami</td>\n",
       "      <td>21/03/2001</td>\n",
       "      <td>9700</td>\n",
       "      <td>False</td>\n",
       "    </tr>\n",
       "    <tr>\n",
       "      <th>2</th>\n",
       "      <td>francisestl@gmail.com</td>\n",
       "      <td>francis</td>\n",
       "      <td>eustler</td>\n",
       "      <td>30/07/2002</td>\n",
       "      <td>9500</td>\n",
       "      <td>False</td>\n",
       "    </tr>\n",
       "    <tr>\n",
       "      <th>3</th>\n",
       "      <td>laura@gmail.com</td>\n",
       "      <td>laura</td>\n",
       "      <td>chavez</td>\n",
       "      <td>14/10/2003</td>\n",
       "      <td>11000</td>\n",
       "      <td>True</td>\n",
       "    </tr>\n",
       "  </tbody>\n",
       "</table>\n",
       "</div>"
      ]
     },
     "execution_count": 74,
     "metadata": {},
     "output_type": "execute_result"
    }
   ],
   "execution_count": 74
  }
 ],
 "metadata": {
  "kernelspec": {
   "display_name": "Python 3",
   "language": "python",
   "name": "python3"
  },
  "language_info": {
   "codemirror_mode": {
    "name": "ipython",
    "version": 2
   },
   "file_extension": ".py",
   "mimetype": "text/x-python",
   "name": "python",
   "nbconvert_exporter": "python",
   "pygments_lexer": "ipython2",
   "version": "2.7.6"
  }
 },
 "nbformat": 4,
 "nbformat_minor": 5
}
