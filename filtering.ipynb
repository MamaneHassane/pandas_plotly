{
 "cells": [
  {
   "cell_type": "code",
   "id": "initial_id",
   "metadata": {
    "collapsed": true,
    "ExecuteTime": {
     "end_time": "2024-10-26T10:25:02.002572Z",
     "start_time": "2024-10-26T10:25:01.994978Z"
    }
   },
   "source": "import pandas as pd",
   "outputs": [],
   "execution_count": 93
  },
  {
   "metadata": {
    "ExecuteTime": {
     "end_time": "2024-10-26T10:25:02.048809Z",
     "start_time": "2024-10-26T10:25:02.012419Z"
    }
   },
   "cell_type": "code",
   "source": [
    "data_dict = {\n",
    "    'first_name' : ['hassane','sara','francis','laura'],\n",
    "    'last_name' : ['mamane','tamami','eustler','chavez'],\n",
    "    'email' : ['hassanemmn@gmail.com','sara@gmail.com','francisestl@gmail.com','laura@gmail.com'],\n",
    "    'date_of_birth':['16/02/2001','21/03/2001','30/07/2002','14/10/2003'],\n",
    "    'salary': [12000,9700,9500,11000],\n",
    "    'field': ['Data & IA', 'Software engineering', 'Litterature', 'Art'],\n",
    "    'sex': ['M','F','M','F'],\n",
    "    'languages_know' : ['python,java,c_sharp','python,R,c++','php,java,c',''],\n",
    "    'answer' : [True,False,False,True],\n",
    "}\n",
    "df = pd.DataFrame(data_dict)\n",
    "df"
   ],
   "id": "3796a53323ec1c5c",
   "outputs": [
    {
     "data": {
      "text/plain": [
       "  first_name last_name                  email date_of_birth  salary  \\\n",
       "0    hassane    mamane   hassanemmn@gmail.com    16/02/2001   12000   \n",
       "1       sara    tamami         sara@gmail.com    21/03/2001    9700   \n",
       "2    francis   eustler  francisestl@gmail.com    30/07/2002    9500   \n",
       "3      laura    chavez        laura@gmail.com    14/10/2003   11000   \n",
       "\n",
       "                  field sex       languages_know  answer  \n",
       "0             Data & IA   M  python,java,c_sharp    True  \n",
       "1  Software engineering   F         python,R,c++   False  \n",
       "2           Litterature   M           php,java,c   False  \n",
       "3                   Art   F                         True  "
      ],
      "text/html": [
       "<div>\n",
       "<style scoped>\n",
       "    .dataframe tbody tr th:only-of-type {\n",
       "        vertical-align: middle;\n",
       "    }\n",
       "\n",
       "    .dataframe tbody tr th {\n",
       "        vertical-align: top;\n",
       "    }\n",
       "\n",
       "    .dataframe thead th {\n",
       "        text-align: right;\n",
       "    }\n",
       "</style>\n",
       "<table border=\"1\" class=\"dataframe\">\n",
       "  <thead>\n",
       "    <tr style=\"text-align: right;\">\n",
       "      <th></th>\n",
       "      <th>first_name</th>\n",
       "      <th>last_name</th>\n",
       "      <th>email</th>\n",
       "      <th>date_of_birth</th>\n",
       "      <th>salary</th>\n",
       "      <th>field</th>\n",
       "      <th>sex</th>\n",
       "      <th>languages_know</th>\n",
       "      <th>answer</th>\n",
       "    </tr>\n",
       "  </thead>\n",
       "  <tbody>\n",
       "    <tr>\n",
       "      <th>0</th>\n",
       "      <td>hassane</td>\n",
       "      <td>mamane</td>\n",
       "      <td>hassanemmn@gmail.com</td>\n",
       "      <td>16/02/2001</td>\n",
       "      <td>12000</td>\n",
       "      <td>Data &amp; IA</td>\n",
       "      <td>M</td>\n",
       "      <td>python,java,c_sharp</td>\n",
       "      <td>True</td>\n",
       "    </tr>\n",
       "    <tr>\n",
       "      <th>1</th>\n",
       "      <td>sara</td>\n",
       "      <td>tamami</td>\n",
       "      <td>sara@gmail.com</td>\n",
       "      <td>21/03/2001</td>\n",
       "      <td>9700</td>\n",
       "      <td>Software engineering</td>\n",
       "      <td>F</td>\n",
       "      <td>python,R,c++</td>\n",
       "      <td>False</td>\n",
       "    </tr>\n",
       "    <tr>\n",
       "      <th>2</th>\n",
       "      <td>francis</td>\n",
       "      <td>eustler</td>\n",
       "      <td>francisestl@gmail.com</td>\n",
       "      <td>30/07/2002</td>\n",
       "      <td>9500</td>\n",
       "      <td>Litterature</td>\n",
       "      <td>M</td>\n",
       "      <td>php,java,c</td>\n",
       "      <td>False</td>\n",
       "    </tr>\n",
       "    <tr>\n",
       "      <th>3</th>\n",
       "      <td>laura</td>\n",
       "      <td>chavez</td>\n",
       "      <td>laura@gmail.com</td>\n",
       "      <td>14/10/2003</td>\n",
       "      <td>11000</td>\n",
       "      <td>Art</td>\n",
       "      <td>F</td>\n",
       "      <td></td>\n",
       "      <td>True</td>\n",
       "    </tr>\n",
       "  </tbody>\n",
       "</table>\n",
       "</div>"
      ]
     },
     "execution_count": 94,
     "metadata": {},
     "output_type": "execute_result"
    }
   ],
   "execution_count": 94
  },
  {
   "metadata": {},
   "cell_type": "markdown",
   "source": "filter mask : True pour toutes les lignes qui vérifient la condition et False pour les autres",
   "id": "f74fb38c5b1ab81"
  },
  {
   "metadata": {
    "ExecuteTime": {
     "end_time": "2024-10-26T10:25:02.141996Z",
     "start_time": "2024-10-26T10:25:02.128958Z"
    }
   },
   "cell_type": "code",
   "source": "df['answer'] == True",
   "id": "24168946edbee399",
   "outputs": [
    {
     "data": {
      "text/plain": [
       "0     True\n",
       "1    False\n",
       "2    False\n",
       "3     True\n",
       "Name: answer, dtype: bool"
      ]
     },
     "execution_count": 95,
     "metadata": {},
     "output_type": "execute_result"
    }
   ],
   "execution_count": 95
  },
  {
   "metadata": {},
   "cell_type": "markdown",
   "source": "On peut mettre le filtre dans une variable",
   "id": "fe9f743c05b8fd30"
  },
  {
   "metadata": {
    "ExecuteTime": {
     "end_time": "2024-10-26T10:25:02.266113Z",
     "start_time": "2024-10-26T10:25:02.252846Z"
    }
   },
   "cell_type": "code",
   "source": "filtre = df['answer'] == True",
   "id": "522e3c52855b1c45",
   "outputs": [],
   "execution_count": 96
  },
  {
   "metadata": {},
   "cell_type": "markdown",
   "source": "On peut faire un traitement",
   "id": "5db430d1e849697f"
  },
  {
   "metadata": {
    "ExecuteTime": {
     "end_time": "2024-10-26T10:25:02.358228Z",
     "start_time": "2024-10-26T10:25:02.344354Z"
    }
   },
   "cell_type": "code",
   "source": "df.loc[filtre, 'email']",
   "id": "bfbcc88cc5ce4a38",
   "outputs": [
    {
     "data": {
      "text/plain": [
       "0    hassanemmn@gmail.com\n",
       "3         laura@gmail.com\n",
       "Name: email, dtype: object"
      ]
     },
     "execution_count": 97,
     "metadata": {},
     "output_type": "execute_result"
    }
   ],
   "execution_count": 97
  },
  {
   "metadata": {},
   "cell_type": "markdown",
   "source": "On peut écrire des requêtes avec & , | , max() , min()",
   "id": "2018292a98df333f"
  },
  {
   "metadata": {
    "ExecuteTime": {
     "end_time": "2024-10-26T10:25:02.499691Z",
     "start_time": "2024-10-26T10:25:02.471104Z"
    }
   },
   "cell_type": "code",
   "source": [
    "req = (df['answer'] == True) & (df['date_of_birth'] == '16/02/2001')\n",
    "df.loc[req]"
   ],
   "id": "b7749763d1b717c",
   "outputs": [
    {
     "data": {
      "text/plain": [
       "  first_name last_name                 email date_of_birth  salary      field  \\\n",
       "0    hassane    mamane  hassanemmn@gmail.com    16/02/2001   12000  Data & IA   \n",
       "\n",
       "  sex       languages_know  answer  \n",
       "0   M  python,java,c_sharp    True  "
      ],
      "text/html": [
       "<div>\n",
       "<style scoped>\n",
       "    .dataframe tbody tr th:only-of-type {\n",
       "        vertical-align: middle;\n",
       "    }\n",
       "\n",
       "    .dataframe tbody tr th {\n",
       "        vertical-align: top;\n",
       "    }\n",
       "\n",
       "    .dataframe thead th {\n",
       "        text-align: right;\n",
       "    }\n",
       "</style>\n",
       "<table border=\"1\" class=\"dataframe\">\n",
       "  <thead>\n",
       "    <tr style=\"text-align: right;\">\n",
       "      <th></th>\n",
       "      <th>first_name</th>\n",
       "      <th>last_name</th>\n",
       "      <th>email</th>\n",
       "      <th>date_of_birth</th>\n",
       "      <th>salary</th>\n",
       "      <th>field</th>\n",
       "      <th>sex</th>\n",
       "      <th>languages_know</th>\n",
       "      <th>answer</th>\n",
       "    </tr>\n",
       "  </thead>\n",
       "  <tbody>\n",
       "    <tr>\n",
       "      <th>0</th>\n",
       "      <td>hassane</td>\n",
       "      <td>mamane</td>\n",
       "      <td>hassanemmn@gmail.com</td>\n",
       "      <td>16/02/2001</td>\n",
       "      <td>12000</td>\n",
       "      <td>Data &amp; IA</td>\n",
       "      <td>M</td>\n",
       "      <td>python,java,c_sharp</td>\n",
       "      <td>True</td>\n",
       "    </tr>\n",
       "  </tbody>\n",
       "</table>\n",
       "</div>"
      ]
     },
     "execution_count": 98,
     "metadata": {},
     "output_type": "execute_result"
    }
   ],
   "execution_count": 98
  },
  {
   "metadata": {
    "ExecuteTime": {
     "end_time": "2024-10-26T10:25:02.656475Z",
     "start_time": "2024-10-26T10:25:02.644982Z"
    }
   },
   "cell_type": "code",
   "source": [
    "high_salary = df['salary'] >= 10000\n",
    "df3 = df.loc[high_salary,['email', 'sex', 'field', 'date_of_birth', 'salary']].set_index('email')"
   ],
   "id": "f8045dc4734c3bb0",
   "outputs": [],
   "execution_count": 99
  },
  {
   "metadata": {
    "ExecuteTime": {
     "end_time": "2024-10-26T10:25:02.797858Z",
     "start_time": "2024-10-26T10:25:02.770438Z"
    }
   },
   "cell_type": "code",
   "source": "df3",
   "id": "c0a9eb2742ead07e",
   "outputs": [
    {
     "data": {
      "text/plain": [
       "                     sex      field date_of_birth  salary\n",
       "email                                                    \n",
       "hassanemmn@gmail.com   M  Data & IA    16/02/2001   12000\n",
       "laura@gmail.com        F        Art    14/10/2003   11000"
      ],
      "text/html": [
       "<div>\n",
       "<style scoped>\n",
       "    .dataframe tbody tr th:only-of-type {\n",
       "        vertical-align: middle;\n",
       "    }\n",
       "\n",
       "    .dataframe tbody tr th {\n",
       "        vertical-align: top;\n",
       "    }\n",
       "\n",
       "    .dataframe thead th {\n",
       "        text-align: right;\n",
       "    }\n",
       "</style>\n",
       "<table border=\"1\" class=\"dataframe\">\n",
       "  <thead>\n",
       "    <tr style=\"text-align: right;\">\n",
       "      <th></th>\n",
       "      <th>sex</th>\n",
       "      <th>field</th>\n",
       "      <th>date_of_birth</th>\n",
       "      <th>salary</th>\n",
       "    </tr>\n",
       "    <tr>\n",
       "      <th>email</th>\n",
       "      <th></th>\n",
       "      <th></th>\n",
       "      <th></th>\n",
       "      <th></th>\n",
       "    </tr>\n",
       "  </thead>\n",
       "  <tbody>\n",
       "    <tr>\n",
       "      <th>hassanemmn@gmail.com</th>\n",
       "      <td>M</td>\n",
       "      <td>Data &amp; IA</td>\n",
       "      <td>16/02/2001</td>\n",
       "      <td>12000</td>\n",
       "    </tr>\n",
       "    <tr>\n",
       "      <th>laura@gmail.com</th>\n",
       "      <td>F</td>\n",
       "      <td>Art</td>\n",
       "      <td>14/10/2003</td>\n",
       "      <td>11000</td>\n",
       "    </tr>\n",
       "  </tbody>\n",
       "</table>\n",
       "</div>"
      ]
     },
     "execution_count": 100,
     "metadata": {},
     "output_type": "execute_result"
    }
   ],
   "execution_count": 100
  },
  {
   "metadata": {
    "ExecuteTime": {
     "end_time": "2024-10-26T10:25:02.922807Z",
     "start_time": "2024-10-26T10:25:02.909385Z"
    }
   },
   "cell_type": "code",
   "source": "fields = ['Data & IA']",
   "id": "5e5c3b65ea5fa201",
   "outputs": [],
   "execution_count": 101
  },
  {
   "metadata": {},
   "cell_type": "markdown",
   "source": "Requête avec isin()",
   "id": "1524c6497006bc09"
  },
  {
   "metadata": {
    "ExecuteTime": {
     "end_time": "2024-10-26T10:25:03.001509Z",
     "start_time": "2024-10-26T10:25:02.975840Z"
    }
   },
   "cell_type": "code",
   "source": "df3.loc[df3['field'].isin(fields)]",
   "id": "10ed06c9029b2eb3",
   "outputs": [
    {
     "data": {
      "text/plain": [
       "                     sex      field date_of_birth  salary\n",
       "email                                                    \n",
       "hassanemmn@gmail.com   M  Data & IA    16/02/2001   12000"
      ],
      "text/html": [
       "<div>\n",
       "<style scoped>\n",
       "    .dataframe tbody tr th:only-of-type {\n",
       "        vertical-align: middle;\n",
       "    }\n",
       "\n",
       "    .dataframe tbody tr th {\n",
       "        vertical-align: top;\n",
       "    }\n",
       "\n",
       "    .dataframe thead th {\n",
       "        text-align: right;\n",
       "    }\n",
       "</style>\n",
       "<table border=\"1\" class=\"dataframe\">\n",
       "  <thead>\n",
       "    <tr style=\"text-align: right;\">\n",
       "      <th></th>\n",
       "      <th>sex</th>\n",
       "      <th>field</th>\n",
       "      <th>date_of_birth</th>\n",
       "      <th>salary</th>\n",
       "    </tr>\n",
       "    <tr>\n",
       "      <th>email</th>\n",
       "      <th></th>\n",
       "      <th></th>\n",
       "      <th></th>\n",
       "      <th></th>\n",
       "    </tr>\n",
       "  </thead>\n",
       "  <tbody>\n",
       "    <tr>\n",
       "      <th>hassanemmn@gmail.com</th>\n",
       "      <td>M</td>\n",
       "      <td>Data &amp; IA</td>\n",
       "      <td>16/02/2001</td>\n",
       "      <td>12000</td>\n",
       "    </tr>\n",
       "  </tbody>\n",
       "</table>\n",
       "</div>"
      ]
     },
     "execution_count": 102,
     "metadata": {},
     "output_type": "execute_result"
    }
   ],
   "execution_count": 102
  },
  {
   "metadata": {},
   "cell_type": "markdown",
   "source": "Requête avec une chaîne de caractères",
   "id": "ce77eddbf22cc436"
  },
  {
   "metadata": {
    "ExecuteTime": {
     "end_time": "2024-10-26T10:25:34.804193Z",
     "start_time": "2024-10-26T10:25:34.777230Z"
    }
   },
   "cell_type": "code",
   "source": [
    "know_python = df['languages_know'].str.contains('python', na=False)\n",
    "df.loc[know_python,['email','salary']]"
   ],
   "id": "e7de794a4f628f51",
   "outputs": [
    {
     "data": {
      "text/plain": [
       "                  email  salary\n",
       "0  hassanemmn@gmail.com   12000\n",
       "1        sara@gmail.com    9700"
      ],
      "text/html": [
       "<div>\n",
       "<style scoped>\n",
       "    .dataframe tbody tr th:only-of-type {\n",
       "        vertical-align: middle;\n",
       "    }\n",
       "\n",
       "    .dataframe tbody tr th {\n",
       "        vertical-align: top;\n",
       "    }\n",
       "\n",
       "    .dataframe thead th {\n",
       "        text-align: right;\n",
       "    }\n",
       "</style>\n",
       "<table border=\"1\" class=\"dataframe\">\n",
       "  <thead>\n",
       "    <tr style=\"text-align: right;\">\n",
       "      <th></th>\n",
       "      <th>email</th>\n",
       "      <th>salary</th>\n",
       "    </tr>\n",
       "  </thead>\n",
       "  <tbody>\n",
       "    <tr>\n",
       "      <th>0</th>\n",
       "      <td>hassanemmn@gmail.com</td>\n",
       "      <td>12000</td>\n",
       "    </tr>\n",
       "    <tr>\n",
       "      <th>1</th>\n",
       "      <td>sara@gmail.com</td>\n",
       "      <td>9700</td>\n",
       "    </tr>\n",
       "  </tbody>\n",
       "</table>\n",
       "</div>"
      ]
     },
     "execution_count": 104,
     "metadata": {},
     "output_type": "execute_result"
    }
   ],
   "execution_count": 104
  }
 ],
 "metadata": {
  "kernelspec": {
   "display_name": "Python 3",
   "language": "python",
   "name": "python3"
  },
  "language_info": {
   "codemirror_mode": {
    "name": "ipython",
    "version": 2
   },
   "file_extension": ".py",
   "mimetype": "text/x-python",
   "name": "python",
   "nbconvert_exporter": "python",
   "pygments_lexer": "ipython2",
   "version": "2.7.6"
  }
 },
 "nbformat": 4,
 "nbformat_minor": 5
}
